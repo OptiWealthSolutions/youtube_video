{
 "cells": [
  {
   "cell_type": "markdown",
   "id": "f2abe1a7",
   "metadata": {},
   "source": [
    "## Carry Trading\n",
    "\n",
    "***Def** : cette strategie consiste à emprunter à un taux d'interet bas un monnaie A pour preter un monnaie B à un taux d'interet B (après conversion)*\n",
    "\n",
    "Ces stratégies sont fréquement utilisées afin de diversifier les risques d'un portfeuille, mais aussi afin de beneficier de l'écart de taux d'intêret entre deux zones monétaires. \n",
    "\n",
    "En effet, généralment le japon prête à des taux inferieurs à ceux des états-unis, de ce fait, les investisseurs empruntent en YEN, convetissent en USD et prete à leur tour leur fonds en USD en achetant des bonds américains. Ensuite quand les titres arrivent à maturité, l'investisseur recoit un rendement equivelement à  $r_1 - r_2 = r_i$, où $r_1$ est le taux aux US et $r_2$ est le taux au Japon.\n",
    "\n",
    "Ces notions peuvent ainsi être exprimées sous forme d'un \"payoff\".\n",
    "\n",
    "Nous assumons que : \n",
    "* $i_t$ = taux d'interet doméstique (USD)\n",
    "* $i_t^*$ = taux d'interet étranger\n",
    "* $S_t$ = taux de change(USD exprimé en monnaie étrangère)\n",
    "* $S_t+_1$ = idem pour un incrément de temps t+1\n",
    "\n",
    "La gain potentiel 'payoff', c'est à dire le gain relatif à prendre une position **long** sur la monnaie étrangère , s'exprime par la formule suivant : \n",
    "\n",
    "$z_t+_1^* = (1 + i_t^*) (St+1/St) - (1 + i_t)$ \n",
    "\n",
    "Ainsi, le gain relatif à une stratégie de carry trading s'ecrit comme : \n",
    "\n",
    "$ z_t+_1^C = sign (i_t^* - i_t)z_t+_1^*$\n",
    "\n",
    "### La PTI :\n",
    "\n",
    "Le resultat de ces deux strategies est sensiblement le même si il y parité des taux d'intêret. \n",
    "\n",
    " *\"Pour qu'il y ait parité des taux d'interet, il faut que le différentiel de taux d'intérêt entre deux devises soit égal à l'évolution du taux du change à terme. S'il y a équivalence, alors la pti est couverte. Si ce n'est pas le cas, la parité des taux d'intérêt est non couverte. Pour vous aider à comprendre, prenons un exemple.\"*\n",
    "Explication de la partié des taux d'interet :\n",
    "\n",
    "* **Couverte :** Dans ce cas là, la parité couverte signifie que les deux investissement sont semblable, et que les rendements des en euro ou en dollar sont identiques\n",
    "\n",
    "* **Non-Couverte :** (voir article ci dessous)\n",
    "- *source* : https://www.centralcharts.com/fr/gm/1-apprendre/9-economie/34-analyse-fondamentale/611-theorie-de-la-parite-des-taux-d-interet\n",
    "\n",
    "### Methode :\n",
    "\n",
    "Nous allon maintenant procéder à la mise en place de cette logique (simplfiée), par le biais d'un code python. Pour cela nous devons passer par plusieurs étapes :\n",
    "- recupérer les valeurs des taux d'intérêts pour chaque zone monétaire\n",
    "- trie et création de portfolio \n",
    "- calculer le gain relatif à une position **\"long\"** si la parité est non-couverte\n",
    "- calcul des rendements pour chaque pairs de devises\n",
    "- conclusion du modèle"
   ]
  },
  {
   "cell_type": "code",
   "execution_count": null,
   "id": "8ee75408",
   "metadata": {
    "vscode": {
     "languageId": "plaintext"
    }
   },
   "outputs": [],
   "source": []
  }
 ],
 "metadata": {
  "language_info": {
   "name": "python"
  }
 },
 "nbformat": 4,
 "nbformat_minor": 5
}
