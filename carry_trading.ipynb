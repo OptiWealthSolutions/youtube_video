{
 "cells": [
  {
   "cell_type": "markdown",
   "id": "f2abe1a7",
   "metadata": {},
   "source": [
    "## Carry Trading\n",
    "\n",
    "***Def** : cette strategie consiste à emprunter à un taux d'interet bas un monnaie A pour preter un monnaie B à un taux d'interet B (après conversion)*\n",
    "\n",
    "Ces stratégies sont fréquement utilisées afin de diversifier les risques d'un portfeuille, mais aussi afin de beneficier de l'écart de taux d'intêret entre deux zones monétaires. \n",
    "\n",
    "En effet, généralment le japon prête à des taux inferieurs à ceux des états-unis, de ce fait, les investisseurs empruntent en YEN, convetissent en USD et prete à leur tour leur fonds en USD en achetant des bonds américains. Ensuite quand les titres arrivent à maturité, l'investisseur recoit un rendement equivelement à  $r_1 - r_2 = r_i$, où $r_1$ est le taux aux US et $r_2$ est le taux au Japon. Cette stratégie parie contre la parité des taux d'intérêt couverts qui stipulerait que les gains d'intérêt devraient être exactement compensés par les mouvements de change.\n",
    "\n",
    "Ces notions peuvent ainsi être exprimées sous forme d'un \"payoff\".\n",
    "\n",
    "Nous assumons que : \n",
    "* $i_t$ = taux d'interet doméstique (USD)\n",
    "* $i_t^*$ = taux d'interet étranger\n",
    "* $S_t$ = taux de change(USD exprimé en monnaie étrangère)\n",
    "* $S_t+_1$ = idem pour un incrément de temps t+1\n",
    "\n",
    "La gain potentiel 'payoff', c'est à dire le gain relatif à prendre une position **long** sur la monnaie étrangère , s'exprime par la formule suivant : \n",
    "\n",
    "$z_t+_1^* = (1 + i_t^*) (St+1/St) - (1 + i_t)$ \n",
    "\n",
    "Ainsi, le gain relatif à une stratégie de carry trading s'ecrit comme : \n",
    "\n",
    "$ z_t+_1^C = sign (i_t^* - i_t)z_t+_1^*$\n",
    "\n",
    "Le terme $sign (i_t^* - i_t)$ décide de la position  :\n",
    "\n",
    "\n",
    "- Si $i_t^∗>i_t$ (taux étranger plus élevé) → sign=+1 donc Position **LONG** sur devise étrangère\n",
    "\n",
    "- Si $i_t^∗<i_t^*$ (taux étranger plus faible) → sign= -1 donc Position **SHORT** sur devise étrangère\n",
    "\n",
    "### La PTI :\n",
    "\n",
    "Le resultat de ces deux strategies est sensiblement le même si il y parité des taux d'intêret. \n",
    "\n",
    " *\"Pour qu'il y ait parité des taux d'interet, il faut que le différentiel de taux d'intérêt entre deux devises soit égal à l'évolution du taux du change à terme. S'il y a équivalence, alors la pti est couverte. Si ce n'est pas le cas, la parité des taux d'intérêt est non couverte. Pour vous aider à comprendre, prenons un exemple.\"*\n",
    "Explication de la partié des taux d'interet :\n",
    "\n",
    "* **Couverte :** Dans ce cas là, la parité couverte signifie que les deux investissement sont semblable, et que les rendements des en euro ou en dollar sont identiques\n",
    "\n",
    "* **Non-Couverte :** (voir article ci dessous)\n",
    "- *source* : https://www.centralcharts.com/fr/gm/1-apprendre/9-economie/34-analyse-fondamentale/611-theorie-de-la-parite-des-taux-d-interet\n",
    "\n",
    "### Methode :\n",
    "\n",
    "Nous allon maintenant procéder à la mise en place de cette logique (simplfiée), par le biais d'un code python. Pour cela nous devons passer par plusieurs étapes :\n",
    "- recupérer les valeurs des taux d'intérêts pour chaque zone monétaire\n",
    "- trie et création de portfolio \n",
    "- calculer le gain relatif à une position **\"long\"** si la parité est non-couverte\n",
    "- calcul des rendements pour chaque pairs de devises\n",
    "- conclusion du modèle"
   ]
  },
  {
   "cell_type": "code",
   "execution_count": 3,
   "id": "e18c786c",
   "metadata": {},
   "outputs": [],
   "source": [
    "#package\n",
    "import fredapi as FRED\n",
    "import numpy as np\n",
    "import pandas as pd\n",
    "import yfinance as yf\n",
    "import requests"
   ]
  },
  {
   "cell_type": "code",
   "execution_count": null,
   "id": "5f830faf",
   "metadata": {},
   "outputs": [
    {
     "ename": "TypeError",
     "evalue": "can only concatenate str (not \"int\") to str",
     "output_type": "error",
     "traceback": [
      "\u001b[31m---------------------------------------------------------------------------\u001b[39m",
      "\u001b[31mTypeError\u001b[39m                                 Traceback (most recent call last)",
      "\u001b[36mCell\u001b[39m\u001b[36m \u001b[39m\u001b[32mIn[11]\u001b[39m\u001b[32m, line 22\u001b[39m\n\u001b[32m     18\u001b[39m     data[\u001b[33m\"\u001b[39m\u001b[33mJPY\u001b[39m\u001b[33m\"\u001b[39m] = rates[k+\u001b[32m1\u001b[39m\n\u001b[32m     19\u001b[39m                         ]\n\u001b[32m     20\u001b[39m     \u001b[38;5;28;01mreturn\u001b[39;00m data\n\u001b[32m---> \u001b[39m\u001b[32m22\u001b[39m \u001b[38;5;28mprint\u001b[39m(\u001b[43mgetRate\u001b[49m\u001b[43m(\u001b[49m\u001b[43m)\u001b[49m)\n",
      "\u001b[36mCell\u001b[39m\u001b[36m \u001b[39m\u001b[32mIn[11]\u001b[39m\u001b[32m, line 18\u001b[39m, in \u001b[36mgetRate\u001b[39m\u001b[34m()\u001b[39m\n\u001b[32m     16\u001b[39m data= pd.DataFrame(columns=[\u001b[33m'\u001b[39m\u001b[33mUS\u001b[39m\u001b[33m'\u001b[39m,\u001b[33m'\u001b[39m\u001b[33mJPY\u001b[39m\u001b[33m'\u001b[39m])\n\u001b[32m     17\u001b[39m data[\u001b[33m'\u001b[39m\u001b[33mUS\u001b[39m\u001b[33m'\u001b[39m] = rates[k]\n\u001b[32m---> \u001b[39m\u001b[32m18\u001b[39m data[\u001b[33m\"\u001b[39m\u001b[33mJPY\u001b[39m\u001b[33m\"\u001b[39m] = rates[\u001b[43mk\u001b[49m\u001b[43m+\u001b[49m\u001b[32;43m1\u001b[39;49m\n\u001b[32m     19\u001b[39m                     ]\n\u001b[32m     20\u001b[39m \u001b[38;5;28;01mreturn\u001b[39;00m data\n",
      "\u001b[31mTypeError\u001b[39m: can only concatenate str (not \"int\") to str"
     ]
    }
   ],
   "source": [
    "#importation des données \n",
    "API_KEY = \"e16626c91fa2b1af27704a783939bf72\"\n",
    "\n",
    "def getRate():\n",
    "    series = {\n",
    "        \"USD\": \"DGS10\",              # Taux 10 ans US\n",
    "        \"JPY\": \"IRLTLT01JPM156N\"     # Taux 10 ans Japon\n",
    "    }\n",
    "    \n",
    "    rates = {}\n",
    "    for k, v in series.items():\n",
    "        url = f\"https://api.stlouisfed.org/fred/series/observations?series_id={v}&api_key={API_KEY}&file_type=json\"\n",
    "        r = requests.get(url).json()\n",
    "        last_value = r[\"observations\"][-1][\"value\"]\n",
    "        rates[k] = float(last_value)\n",
    "    data= pd.DataFrame(columns=['US','JPY'])\n",
    "    data['US'] = rates[k]\n",
    "    data[\"JPY\"] = rates[k]\n",
    "    return data\n",
    "\n",
    "print(getRate())\n"
   ]
  },
  {
   "cell_type": "code",
   "execution_count": null,
   "id": "c4771174",
   "metadata": {},
   "outputs": [],
   "source": []
  }
 ],
 "metadata": {
  "kernelspec": {
   "display_name": ".venv",
   "language": "python",
   "name": "python3"
  },
  "language_info": {
   "codemirror_mode": {
    "name": "ipython",
    "version": 3
   },
   "file_extension": ".py",
   "mimetype": "text/x-python",
   "name": "python",
   "nbconvert_exporter": "python",
   "pygments_lexer": "ipython3",
   "version": "3.12.4"
  }
 },
 "nbformat": 4,
 "nbformat_minor": 5
}
